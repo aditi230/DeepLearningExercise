{
 "cells": [
  {
   "cell_type": "code",
   "execution_count": 14,
   "metadata": {},
   "outputs": [],
   "source": [
    "import numpy as np"
   ]
  },
  {
   "cell_type": "code",
   "execution_count": 15,
   "metadata": {},
   "outputs": [],
   "source": [
    "input_data = np.array([3,5])"
   ]
  },
  {
   "cell_type": "code",
   "execution_count": 16,
   "metadata": {},
   "outputs": [],
   "source": [
    "weights ={\"node_0\":np.array([2,4]), \"node_1\":np.array([4,-5]), \"output\":np.array([2,7])}"
   ]
  },
  {
   "cell_type": "code",
   "execution_count": 17,
   "metadata": {},
   "outputs": [],
   "source": [
    "node_0_value = (input_data * weights['node_0']).sum()\n",
    "node_1_value = (input_data * weights['node_1']).sum()"
   ]
  },
  {
   "cell_type": "code",
   "execution_count": 18,
   "metadata": {},
   "outputs": [],
   "source": [
    "hidden_layer_outputs = np.array([node_0_value,node_1_value])"
   ]
  },
  {
   "cell_type": "code",
   "execution_count": 19,
   "metadata": {},
   "outputs": [
    {
     "name": "stdout",
     "output_type": "stream",
     "text": [
      "-39\n"
     ]
    }
   ],
   "source": [
    "output = (hidden_layer_outputs * weights['output']).sum()\n",
    "print(output)"
   ]
  },
  {
   "cell_type": "code",
   "execution_count": 20,
   "metadata": {},
   "outputs": [
    {
     "name": "stdout",
     "output_type": "stream",
     "text": [
      "52\n"
     ]
    }
   ],
   "source": [
    "def relu(input):\n",
    "    output = max(0, input)\n",
    "    return(output)\n",
    "node_0_value = (input_data * weights['node_0']).sum()\n",
    "node_0_output = relu(node_0_value)\n",
    "\n",
    "node_1_value = (input_data * weights['node_1']).sum()\n",
    "node_1_output = relu(node_1_value)\n",
    "\n",
    "hidden_layer_outputs = np.array([node_0_output,node_1_output])\n",
    "output = (hidden_layer_outputs * weights['output']).sum()\n",
    "print(output)\n"
   ]
  },
  {
   "cell_type": "code",
   "execution_count": 21,
   "metadata": {},
   "outputs": [],
   "source": [
    "# Applying the network to many observation\n",
    "input_data = [np.array([3,5]),np.array([1,-1]),np.array([0,0]),np.array([8,4])]"
   ]
  },
  {
   "cell_type": "code",
   "execution_count": 28,
   "metadata": {},
   "outputs": [
    {
     "name": "stdout",
     "output_type": "stream",
     "text": [
      "[52, 63, 0, 148]\n"
     ]
    }
   ],
   "source": [
    "def predict_with_network(input_data_row,weights):\n",
    "    node_0_input =  (input_data_row * weights['node_0']).sum()\n",
    "    node_0_output = relu(node_0_input)\n",
    "    \n",
    "    node_1_input =  (input_data_row * weights['node_1']).sum()\n",
    "    node_1_output = relu(node_1_input)\n",
    "    \n",
    "    hidden_layer_outputs = np.array([node_0_output,node_1_output])\n",
    "    \n",
    "    input_to_final_layer = (hidden_layer_outputs * weights['output']).sum()\n",
    "    model_output = relu(input_to_final_layer)\n",
    "    \n",
    "    return(model_output)\n",
    "\n",
    "results=[]\n",
    "for input_data_row in input_data:\n",
    "    results.append(predict_with_network(input_data_row,weights))       \n",
    "    \n",
    "print(results)"
   ]
  },
  {
   "cell_type": "code",
   "execution_count": 40,
   "metadata": {},
   "outputs": [],
   "source": [
    "#multiple hidden layer\n",
    "\n",
    "weight={'node_0_0': np.array([2,4]),\n",
    "        'node_0_1': np.array([4,-5]),\n",
    "        'node_1_0': np.array([-1,2]),\n",
    "        'node_1_1': np.array([1,2]),\n",
    "        'output': np.array([2,7]),}\n",
    "input_data = np.array([3,5])"
   ]
  },
  {
   "cell_type": "code",
   "execution_count": 41,
   "metadata": {},
   "outputs": [
    {
     "name": "stdout",
     "output_type": "stream",
     "text": [
      "182\n"
     ]
    }
   ],
   "source": [
    "def predict(input_data):\n",
    "    node_0_0_input = (input_data*weight['node_0_0']).sum()\n",
    "    node_0_0_output = relu(node_0_0_input)\n",
    "    \n",
    "    node_0_1_input = (input_data*weight['node_0_1']).sum()\n",
    "    node_0_1_output = relu(node_0_1_input)\n",
    "    \n",
    "    hidden_layer_0_output = np.array([node_0_0_output,node_0_1_output])\n",
    "    \n",
    "    node_1_0_input = (hidden_layer_0_output*weight['node_1_0']).sum()\n",
    "    node_1_0_output = relu(node_1_0_input)\n",
    "    \n",
    "    node_1_1_input = (hidden_layer_0_output*weight['node_1_1']).sum()\n",
    "    node_1_1_output = relu(node_1_1_input)\n",
    "    \n",
    "    hidden_layer_1_output = np.array([node_1_0_output,node_1_1_output])\n",
    "    \n",
    "    input_to_final_2_layer = (hidden_layer_1_output * weight['output']).sum()\n",
    "    model_2_output = relu(input_to_final_2_layer)\n",
    "    \n",
    "    return(model_2_output)\n",
    "\n",
    "output = predict(input_data)      \n",
    "    \n",
    "print(output)"
   ]
  },
  {
   "cell_type": "code",
   "execution_count": null,
   "metadata": {},
   "outputs": [],
   "source": []
  },
  {
   "cell_type": "code",
   "execution_count": null,
   "metadata": {},
   "outputs": [],
   "source": []
  }
 ],
 "metadata": {
  "kernelspec": {
   "display_name": "Python 3",
   "language": "python",
   "name": "python3"
  },
  "language_info": {
   "codemirror_mode": {
    "name": "ipython",
    "version": 3
   },
   "file_extension": ".py",
   "mimetype": "text/x-python",
   "name": "python",
   "nbconvert_exporter": "python",
   "pygments_lexer": "ipython3",
   "version": "3.8.3"
  }
 },
 "nbformat": 4,
 "nbformat_minor": 4
}
